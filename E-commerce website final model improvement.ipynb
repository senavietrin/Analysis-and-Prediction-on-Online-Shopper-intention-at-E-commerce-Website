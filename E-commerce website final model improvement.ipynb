{
 "cells": [
  {
   "cell_type": "code",
   "execution_count": 1,
   "id": "db7d25fd",
   "metadata": {},
   "outputs": [],
   "source": [
    "import warnings\n",
    "warnings.filterwarnings('ignore')\n",
    "\n",
    "import numpy as np\n",
    "import pandas as pd\n",
    "import seaborn as sns\n",
    "from scipy import stats\n",
    "import matplotlib.pyplot as plt\n",
    "%matplotlib inline\n",
    "\n",
    "from sklearn.tree import DecisionTreeClassifier\n",
    "from sklearn.linear_model import LogisticRegression\n",
    "from sklearn.ensemble import RandomForestClassifier\n",
    "from sklearn.model_selection import train_test_split\n",
    "import xgboost as xgb\n",
    "from sklearn.preprocessing import StandardScaler\n",
    "from sklearn.preprocessing import RobustScaler\n",
    "from sklearn.metrics import roc_auc_score, classification_report, f1_score,accuracy_score, confusion_matrix\n",
    "from sklearn.model_selection import RandomizedSearchCV, StratifiedKFold\n",
    "from scipy.stats import randint as sp_randint\n",
    "\n",
    "\n",
    "from collections import Counter\n",
    "from imblearn.over_sampling import SMOTE\n",
    "import warnings\n",
    "warnings.simplefilter(action='ignore', category=FutureWarning)\n",
    "\n",
    "\n",
    "pd.options.display.float_format = '{:,.6f}'.format"
   ]
  },
  {
   "cell_type": "code",
   "execution_count": 2,
   "id": "ddb96811",
   "metadata": {},
   "outputs": [
    {
     "data": {
      "text/html": [
       "<div>\n",
       "<style scoped>\n",
       "    .dataframe tbody tr th:only-of-type {\n",
       "        vertical-align: middle;\n",
       "    }\n",
       "\n",
       "    .dataframe tbody tr th {\n",
       "        vertical-align: top;\n",
       "    }\n",
       "\n",
       "    .dataframe thead th {\n",
       "        text-align: right;\n",
       "    }\n",
       "</style>\n",
       "<table border=\"1\" class=\"dataframe\">\n",
       "  <thead>\n",
       "    <tr style=\"text-align: right;\">\n",
       "      <th></th>\n",
       "      <th>Administrative</th>\n",
       "      <th>Administrative_Duration</th>\n",
       "      <th>Informational</th>\n",
       "      <th>Informational_Duration</th>\n",
       "      <th>ProductRelated</th>\n",
       "      <th>ProductRelated_Duration</th>\n",
       "      <th>BounceRates</th>\n",
       "      <th>ExitRates</th>\n",
       "      <th>PageValues</th>\n",
       "      <th>SpecialDay</th>\n",
       "      <th>Month</th>\n",
       "      <th>OperatingSystems</th>\n",
       "      <th>Browser</th>\n",
       "      <th>Region</th>\n",
       "      <th>TrafficType</th>\n",
       "      <th>VisitorType</th>\n",
       "      <th>Weekend</th>\n",
       "      <th>Revenue</th>\n",
       "    </tr>\n",
       "  </thead>\n",
       "  <tbody>\n",
       "    <tr>\n",
       "      <th>0</th>\n",
       "      <td>0</td>\n",
       "      <td>0.000000</td>\n",
       "      <td>0</td>\n",
       "      <td>0.000000</td>\n",
       "      <td>1</td>\n",
       "      <td>0.000000</td>\n",
       "      <td>0.200000</td>\n",
       "      <td>0.200000</td>\n",
       "      <td>0.000000</td>\n",
       "      <td>0.000000</td>\n",
       "      <td>Feb</td>\n",
       "      <td>1</td>\n",
       "      <td>1</td>\n",
       "      <td>1</td>\n",
       "      <td>1</td>\n",
       "      <td>Returning_Visitor</td>\n",
       "      <td>False</td>\n",
       "      <td>False</td>\n",
       "    </tr>\n",
       "    <tr>\n",
       "      <th>1</th>\n",
       "      <td>0</td>\n",
       "      <td>0.000000</td>\n",
       "      <td>0</td>\n",
       "      <td>0.000000</td>\n",
       "      <td>2</td>\n",
       "      <td>64.000000</td>\n",
       "      <td>0.000000</td>\n",
       "      <td>0.100000</td>\n",
       "      <td>0.000000</td>\n",
       "      <td>0.000000</td>\n",
       "      <td>Feb</td>\n",
       "      <td>2</td>\n",
       "      <td>2</td>\n",
       "      <td>1</td>\n",
       "      <td>2</td>\n",
       "      <td>Returning_Visitor</td>\n",
       "      <td>False</td>\n",
       "      <td>False</td>\n",
       "    </tr>\n",
       "    <tr>\n",
       "      <th>2</th>\n",
       "      <td>0</td>\n",
       "      <td>0.000000</td>\n",
       "      <td>0</td>\n",
       "      <td>0.000000</td>\n",
       "      <td>1</td>\n",
       "      <td>0.000000</td>\n",
       "      <td>0.200000</td>\n",
       "      <td>0.200000</td>\n",
       "      <td>0.000000</td>\n",
       "      <td>0.000000</td>\n",
       "      <td>Feb</td>\n",
       "      <td>4</td>\n",
       "      <td>1</td>\n",
       "      <td>9</td>\n",
       "      <td>3</td>\n",
       "      <td>Returning_Visitor</td>\n",
       "      <td>False</td>\n",
       "      <td>False</td>\n",
       "    </tr>\n",
       "  </tbody>\n",
       "</table>\n",
       "</div>"
      ],
      "text/plain": [
       "   Administrative  Administrative_Duration  Informational  \\\n",
       "0               0                 0.000000              0   \n",
       "1               0                 0.000000              0   \n",
       "2               0                 0.000000              0   \n",
       "\n",
       "   Informational_Duration  ProductRelated  ProductRelated_Duration  \\\n",
       "0                0.000000               1                 0.000000   \n",
       "1                0.000000               2                64.000000   \n",
       "2                0.000000               1                 0.000000   \n",
       "\n",
       "   BounceRates  ExitRates  PageValues  SpecialDay Month  OperatingSystems  \\\n",
       "0     0.200000   0.200000    0.000000    0.000000   Feb                 1   \n",
       "1     0.000000   0.100000    0.000000    0.000000   Feb                 2   \n",
       "2     0.200000   0.200000    0.000000    0.000000   Feb                 4   \n",
       "\n",
       "   Browser  Region  TrafficType        VisitorType  Weekend  Revenue  \n",
       "0        1       1            1  Returning_Visitor    False    False  \n",
       "1        2       1            2  Returning_Visitor    False    False  \n",
       "2        1       9            3  Returning_Visitor    False    False  "
      ]
     },
     "execution_count": 2,
     "metadata": {},
     "output_type": "execute_result"
    }
   ],
   "source": [
    "data = pd.read_csv('online_shoppers_intention.csv')\n",
    "data.head(3)"
   ]
  },
  {
   "cell_type": "code",
   "execution_count": 3,
   "id": "5fbd78ca",
   "metadata": {},
   "outputs": [
    {
     "data": {
      "text/plain": [
       "125"
      ]
     },
     "execution_count": 3,
     "metadata": {},
     "output_type": "execute_result"
    }
   ],
   "source": [
    "data.duplicated().sum()"
   ]
  },
  {
   "cell_type": "code",
   "execution_count": 4,
   "id": "09903d49",
   "metadata": {},
   "outputs": [],
   "source": [
    "data = data.drop_duplicates()"
   ]
  },
  {
   "cell_type": "code",
   "execution_count": 5,
   "id": "d2515f42",
   "metadata": {},
   "outputs": [
    {
     "data": {
      "text/plain": [
       "Administrative             0\n",
       "Administrative_Duration    0\n",
       "Informational              0\n",
       "Informational_Duration     0\n",
       "ProductRelated             0\n",
       "ProductRelated_Duration    0\n",
       "BounceRates                0\n",
       "ExitRates                  0\n",
       "PageValues                 0\n",
       "SpecialDay                 0\n",
       "Month                      0\n",
       "OperatingSystems           0\n",
       "Browser                    0\n",
       "Region                     0\n",
       "TrafficType                0\n",
       "VisitorType                0\n",
       "Weekend                    0\n",
       "Revenue                    0\n",
       "dtype: int64"
      ]
     },
     "execution_count": 5,
     "metadata": {},
     "output_type": "execute_result"
    }
   ],
   "source": [
    "data.isnull().sum()"
   ]
  },
  {
   "cell_type": "markdown",
   "id": "d9c8a80d",
   "metadata": {},
   "source": [
    "## Encoding"
   ]
  },
  {
   "cell_type": "code",
   "execution_count": 6,
   "id": "b1b23182",
   "metadata": {},
   "outputs": [],
   "source": [
    "data = data.dropna().reset_index(drop=True)"
   ]
  },
  {
   "cell_type": "code",
   "execution_count": 7,
   "id": "18f543f7",
   "metadata": {},
   "outputs": [],
   "source": [
    "data.Revenue = data.Revenue.astype('int')"
   ]
  },
  {
   "cell_type": "code",
   "execution_count": 8,
   "id": "1d2e61d4",
   "metadata": {},
   "outputs": [
    {
     "data": {
      "text/html": [
       "<div>\n",
       "<style scoped>\n",
       "    .dataframe tbody tr th:only-of-type {\n",
       "        vertical-align: middle;\n",
       "    }\n",
       "\n",
       "    .dataframe tbody tr th {\n",
       "        vertical-align: top;\n",
       "    }\n",
       "\n",
       "    .dataframe thead th {\n",
       "        text-align: right;\n",
       "    }\n",
       "</style>\n",
       "<table border=\"1\" class=\"dataframe\">\n",
       "  <thead>\n",
       "    <tr style=\"text-align: right;\">\n",
       "      <th></th>\n",
       "      <th>Administrative</th>\n",
       "      <th>Administrative_Duration</th>\n",
       "      <th>Informational</th>\n",
       "      <th>Informational_Duration</th>\n",
       "      <th>ProductRelated</th>\n",
       "      <th>ProductRelated_Duration</th>\n",
       "      <th>BounceRates</th>\n",
       "      <th>ExitRates</th>\n",
       "      <th>PageValues</th>\n",
       "      <th>SpecialDay</th>\n",
       "      <th>Month</th>\n",
       "      <th>OperatingSystems</th>\n",
       "      <th>Browser</th>\n",
       "      <th>Region</th>\n",
       "      <th>TrafficType</th>\n",
       "      <th>VisitorType</th>\n",
       "      <th>Weekend</th>\n",
       "      <th>Revenue</th>\n",
       "    </tr>\n",
       "  </thead>\n",
       "  <tbody>\n",
       "    <tr>\n",
       "      <th>0</th>\n",
       "      <td>0</td>\n",
       "      <td>0.000000</td>\n",
       "      <td>0</td>\n",
       "      <td>0.000000</td>\n",
       "      <td>1</td>\n",
       "      <td>0.000000</td>\n",
       "      <td>0.200000</td>\n",
       "      <td>0.200000</td>\n",
       "      <td>0.000000</td>\n",
       "      <td>0.000000</td>\n",
       "      <td>0.014830</td>\n",
       "      <td>0.208849</td>\n",
       "      <td>0.198853</td>\n",
       "      <td>0.386235</td>\n",
       "      <td>0.195658</td>\n",
       "      <td>0.854650</td>\n",
       "      <td>0</td>\n",
       "      <td>0</td>\n",
       "    </tr>\n",
       "    <tr>\n",
       "      <th>1</th>\n",
       "      <td>0</td>\n",
       "      <td>0.000000</td>\n",
       "      <td>0</td>\n",
       "      <td>0.000000</td>\n",
       "      <td>2</td>\n",
       "      <td>64.000000</td>\n",
       "      <td>0.000000</td>\n",
       "      <td>0.100000</td>\n",
       "      <td>0.000000</td>\n",
       "      <td>0.000000</td>\n",
       "      <td>0.014830</td>\n",
       "      <td>0.535928</td>\n",
       "      <td>0.645883</td>\n",
       "      <td>0.386235</td>\n",
       "      <td>0.320442</td>\n",
       "      <td>0.854650</td>\n",
       "      <td>0</td>\n",
       "      <td>0</td>\n",
       "    </tr>\n",
       "    <tr>\n",
       "      <th>2</th>\n",
       "      <td>0</td>\n",
       "      <td>0.000000</td>\n",
       "      <td>0</td>\n",
       "      <td>0.000000</td>\n",
       "      <td>1</td>\n",
       "      <td>0.000000</td>\n",
       "      <td>0.200000</td>\n",
       "      <td>0.200000</td>\n",
       "      <td>0.000000</td>\n",
       "      <td>0.000000</td>\n",
       "      <td>0.014830</td>\n",
       "      <td>0.039164</td>\n",
       "      <td>0.198853</td>\n",
       "      <td>0.041376</td>\n",
       "      <td>0.164932</td>\n",
       "      <td>0.854650</td>\n",
       "      <td>0</td>\n",
       "      <td>0</td>\n",
       "    </tr>\n",
       "  </tbody>\n",
       "</table>\n",
       "</div>"
      ],
      "text/plain": [
       "   Administrative  Administrative_Duration  Informational  \\\n",
       "0               0                 0.000000              0   \n",
       "1               0                 0.000000              0   \n",
       "2               0                 0.000000              0   \n",
       "\n",
       "   Informational_Duration  ProductRelated  ProductRelated_Duration  \\\n",
       "0                0.000000               1                 0.000000   \n",
       "1                0.000000               2                64.000000   \n",
       "2                0.000000               1                 0.000000   \n",
       "\n",
       "   BounceRates  ExitRates  PageValues  SpecialDay    Month  OperatingSystems  \\\n",
       "0     0.200000   0.200000    0.000000    0.000000 0.014830          0.208849   \n",
       "1     0.000000   0.100000    0.000000    0.000000 0.014830          0.535928   \n",
       "2     0.200000   0.200000    0.000000    0.000000 0.014830          0.039164   \n",
       "\n",
       "   Browser   Region  TrafficType  VisitorType  Weekend  Revenue  \n",
       "0 0.198853 0.386235     0.195658     0.854650        0        0  \n",
       "1 0.645883 0.386235     0.320442     0.854650        0        0  \n",
       "2 0.198853 0.041376     0.164932     0.854650        0        0  "
      ]
     },
     "execution_count": 8,
     "metadata": {},
     "output_type": "execute_result"
    }
   ],
   "source": [
    "#encode weekend\n",
    "data.Weekend = data.Weekend.astype('int')\n",
    "\n",
    "from category_encoders import CountEncoder\n",
    "data = CountEncoder(cols=['OperatingSystems','Browser','Region','VisitorType','Month', 'TrafficType'], normalize=True).fit(data).transform(data)\n",
    "data.head(3)"
   ]
  },
  {
   "cell_type": "code",
   "execution_count": 9,
   "id": "bdae9a2d",
   "metadata": {},
   "outputs": [],
   "source": [
    "def my_modeling_test(X,y):\n",
    "    X_train, X_test, y_train, y_test = train_test_split(X, y, test_size=0.25, random_state=42)\n",
    "    \n",
    "    list_model = [\n",
    "                LogisticRegression(),\n",
    "                DecisionTreeClassifier(),\n",
    "                RandomForestClassifier(random_state = 42),\n",
    "                xgb.XGBClassifier(random_state = 42)  \n",
    "    ]\n",
    "\n",
    "    df = pd.DataFrame(columns = ['Method','F1 Score', 'Classification Report'])\n",
    "\n",
    "    for model in list_model:\n",
    "        model.fit(X_train,y_train)\n",
    "        y_pred = model.predict(X_test)\n",
    "        method = str(type(model)).split('.')[-1][:-2]\n",
    "\n",
    "        # AUC Score\n",
    "        f1  = f1_score(y_test, y_pred)\n",
    "        c_report = classification_report(y_test, y_pred, digits=6)\n",
    "\n",
    "        df = df.append({'Method': method,  \n",
    "                        'F1 Score' : f1,\n",
    "                        'Classification Report': c_report},\n",
    "                     ignore_index=True)\n",
    "    return df"
   ]
  },
  {
   "cell_type": "code",
   "execution_count": 10,
   "id": "6d7194ce",
   "metadata": {},
   "outputs": [],
   "source": [
    "def my_modeling_train(X,y):\n",
    "    X_train, X_test, y_train, y_test = train_test_split(X, y, test_size=0.25, random_state=42)\n",
    "    \n",
    "    list_model = [\n",
    "                LogisticRegression(),\n",
    "                DecisionTreeClassifier(),\n",
    "                RandomForestClassifier(random_state = 42),\n",
    "                xgb.XGBClassifier(random_state = 42)  \n",
    "    ]\n",
    "\n",
    "    df = pd.DataFrame(columns = ['Method','F1 Score', 'Classification Report'])\n",
    "\n",
    "    for model in list_model:\n",
    "        model.fit(X_train,y_train)\n",
    "        y_pred_train = model.predict(X_train)\n",
    "        method = str(type(model)).split('.')[-1][:-2]\n",
    "\n",
    "        # AUC Score\n",
    "        f1  = f1_score(y_train, y_pred_train)\n",
    "        c_report = classification_report(y_train, y_pred_train, digits=6)\n",
    "\n",
    "        df = df.append({'Method': method,  \n",
    "                        'F1 Score' : f1,\n",
    "                        'Classification Report': c_report},\n",
    "                     ignore_index=True)\n",
    "    return df"
   ]
  },
  {
   "cell_type": "code",
   "execution_count": 11,
   "id": "d0f7b7db",
   "metadata": {},
   "outputs": [],
   "source": [
    "X = data.drop('Revenue', axis=1)\n",
    "y = data[['Revenue']]\n",
    "\n",
    "\n",
    "scaler = StandardScaler()\n",
    "scaler.fit(X)\n",
    "X_std = scaler.transform(X)\n",
    "\n",
    "df_test = my_modeling_test(X_std,y)\n",
    "df_test['status'] = 'data test'"
   ]
  },
  {
   "cell_type": "code",
   "execution_count": 12,
   "id": "c7bbae7c",
   "metadata": {},
   "outputs": [],
   "source": [
    "X = data.drop('Revenue', axis=1)\n",
    "y = data[['Revenue']]\n",
    "\n",
    "\n",
    "scaler = StandardScaler()\n",
    "scaler.fit(X)\n",
    "X_std = scaler.transform(X)\n",
    "\n",
    "df_train = my_modeling_train(X_std,y)\n",
    "df_train['status'] = 'data train'"
   ]
  },
  {
   "cell_type": "code",
   "execution_count": 13,
   "id": "822ac032",
   "metadata": {},
   "outputs": [
    {
     "data": {
      "text/html": [
       "<div>\n",
       "<style scoped>\n",
       "    .dataframe tbody tr th:only-of-type {\n",
       "        vertical-align: middle;\n",
       "    }\n",
       "\n",
       "    .dataframe tbody tr th {\n",
       "        vertical-align: top;\n",
       "    }\n",
       "\n",
       "    .dataframe thead th {\n",
       "        text-align: right;\n",
       "    }\n",
       "</style>\n",
       "<table border=\"1\" class=\"dataframe\">\n",
       "  <thead>\n",
       "    <tr style=\"text-align: right;\">\n",
       "      <th></th>\n",
       "      <th>Method</th>\n",
       "      <th>F1 Score</th>\n",
       "      <th>Classification Report</th>\n",
       "      <th>status</th>\n",
       "    </tr>\n",
       "  </thead>\n",
       "  <tbody>\n",
       "    <tr>\n",
       "      <th>0</th>\n",
       "      <td>LogisticRegression</td>\n",
       "      <td>0.494784</td>\n",
       "      <td>precision    recall  f1-score   ...</td>\n",
       "      <td>data test</td>\n",
       "    </tr>\n",
       "    <tr>\n",
       "      <th>1</th>\n",
       "      <td>DecisionTreeClassifier</td>\n",
       "      <td>0.572062</td>\n",
       "      <td>precision    recall  f1-score   ...</td>\n",
       "      <td>data test</td>\n",
       "    </tr>\n",
       "    <tr>\n",
       "      <th>2</th>\n",
       "      <td>RandomForestClassifier</td>\n",
       "      <td>0.641124</td>\n",
       "      <td>precision    recall  f1-score   ...</td>\n",
       "      <td>data test</td>\n",
       "    </tr>\n",
       "    <tr>\n",
       "      <th>3</th>\n",
       "      <td>XGBClassifier</td>\n",
       "      <td>0.659287</td>\n",
       "      <td>precision    recall  f1-score   ...</td>\n",
       "      <td>data test</td>\n",
       "    </tr>\n",
       "  </tbody>\n",
       "</table>\n",
       "</div>"
      ],
      "text/plain": [
       "                   Method F1 Score  \\\n",
       "0      LogisticRegression 0.494784   \n",
       "1  DecisionTreeClassifier 0.572062   \n",
       "2  RandomForestClassifier 0.641124   \n",
       "3           XGBClassifier 0.659287   \n",
       "\n",
       "                               Classification Report     status  \n",
       "0                precision    recall  f1-score   ...  data test  \n",
       "1                precision    recall  f1-score   ...  data test  \n",
       "2                precision    recall  f1-score   ...  data test  \n",
       "3                precision    recall  f1-score   ...  data test  "
      ]
     },
     "execution_count": 13,
     "metadata": {},
     "output_type": "execute_result"
    }
   ],
   "source": [
    "df_test"
   ]
  },
  {
   "cell_type": "code",
   "execution_count": 14,
   "id": "ad307137",
   "metadata": {},
   "outputs": [
    {
     "name": "stdout",
     "output_type": "stream",
     "text": [
      "              precision    recall  f1-score   support\n",
      "\n",
      "           0   0.932664  0.963119  0.947647      2603\n",
      "           1   0.736264  0.596882  0.659287       449\n",
      "\n",
      "    accuracy                       0.909240      3052\n",
      "   macro avg   0.834464  0.780001  0.803467      3052\n",
      "weighted avg   0.903770  0.909240  0.905224      3052\n",
      "\n"
     ]
    }
   ],
   "source": [
    "print(df_test[df_test['Method']=='XGBClassifier']['Classification Report'].values[0])"
   ]
  },
  {
   "cell_type": "code",
   "execution_count": 15,
   "id": "da9484e6",
   "metadata": {},
   "outputs": [
    {
     "data": {
      "text/html": [
       "<div>\n",
       "<style scoped>\n",
       "    .dataframe tbody tr th:only-of-type {\n",
       "        vertical-align: middle;\n",
       "    }\n",
       "\n",
       "    .dataframe tbody tr th {\n",
       "        vertical-align: top;\n",
       "    }\n",
       "\n",
       "    .dataframe thead th {\n",
       "        text-align: right;\n",
       "    }\n",
       "</style>\n",
       "<table border=\"1\" class=\"dataframe\">\n",
       "  <thead>\n",
       "    <tr style=\"text-align: right;\">\n",
       "      <th></th>\n",
       "      <th>Method</th>\n",
       "      <th>F1 Score</th>\n",
       "      <th>Classification Report</th>\n",
       "      <th>status</th>\n",
       "    </tr>\n",
       "  </thead>\n",
       "  <tbody>\n",
       "    <tr>\n",
       "      <th>0</th>\n",
       "      <td>LogisticRegression</td>\n",
       "      <td>0.500689</td>\n",
       "      <td>precision    recall  f1-score   ...</td>\n",
       "      <td>data train</td>\n",
       "    </tr>\n",
       "    <tr>\n",
       "      <th>1</th>\n",
       "      <td>DecisionTreeClassifier</td>\n",
       "      <td>1.000000</td>\n",
       "      <td>precision    recall  f1-score   ...</td>\n",
       "      <td>data train</td>\n",
       "    </tr>\n",
       "    <tr>\n",
       "      <th>2</th>\n",
       "      <td>RandomForestClassifier</td>\n",
       "      <td>1.000000</td>\n",
       "      <td>precision    recall  f1-score   ...</td>\n",
       "      <td>data train</td>\n",
       "    </tr>\n",
       "    <tr>\n",
       "      <th>3</th>\n",
       "      <td>XGBClassifier</td>\n",
       "      <td>0.954756</td>\n",
       "      <td>precision    recall  f1-score   ...</td>\n",
       "      <td>data train</td>\n",
       "    </tr>\n",
       "  </tbody>\n",
       "</table>\n",
       "</div>"
      ],
      "text/plain": [
       "                   Method F1 Score  \\\n",
       "0      LogisticRegression 0.500689   \n",
       "1  DecisionTreeClassifier 1.000000   \n",
       "2  RandomForestClassifier 1.000000   \n",
       "3           XGBClassifier 0.954756   \n",
       "\n",
       "                               Classification Report      status  \n",
       "0                precision    recall  f1-score   ...  data train  \n",
       "1                precision    recall  f1-score   ...  data train  \n",
       "2                precision    recall  f1-score   ...  data train  \n",
       "3                precision    recall  f1-score   ...  data train  "
      ]
     },
     "execution_count": 15,
     "metadata": {},
     "output_type": "execute_result"
    }
   ],
   "source": [
    "df_train"
   ]
  },
  {
   "cell_type": "code",
   "execution_count": 16,
   "id": "b3bd8a89",
   "metadata": {},
   "outputs": [
    {
     "name": "stdout",
     "output_type": "stream",
     "text": [
      "              precision    recall  f1-score   support\n",
      "\n",
      "           0   0.984753  0.998960  0.991806      7694\n",
      "           1   0.994065  0.918437  0.954756      1459\n",
      "\n",
      "    accuracy                       0.986125      9153\n",
      "   macro avg   0.989409  0.958699  0.973281      9153\n",
      "weighted avg   0.986238  0.986125  0.985900      9153\n",
      "\n"
     ]
    }
   ],
   "source": [
    "print(df_train[df_train['Method']=='XGBClassifier']['Classification Report'].values[0])"
   ]
  },
  {
   "cell_type": "markdown",
   "id": "0223a933",
   "metadata": {},
   "source": [
    "**seluruh model mengalami overfitting karena peforma data train jauh lebih baik dibandingkan data test**"
   ]
  },
  {
   "cell_type": "code",
   "execution_count": 136,
   "id": "364712e2",
   "metadata": {},
   "outputs": [],
   "source": [
    "X = data.drop('Revenue', axis=1)\n",
    "y = data[['Revenue']]\n",
    "\n",
    "\n",
    "scaler = StandardScaler()\n",
    "scaler.fit(X)\n",
    "X_std = scaler.transform(X)\n"
   ]
  },
  {
   "cell_type": "code",
   "execution_count": 137,
   "id": "25df1310",
   "metadata": {},
   "outputs": [],
   "source": [
    "#split dataset\n",
    "X_train, X_test, y_train, y_test = train_test_split(X_std, y, test_size=0.25, random_state=42)"
   ]
  },
  {
   "cell_type": "code",
   "execution_count": 138,
   "id": "e0ec853d",
   "metadata": {},
   "outputs": [],
   "source": [
    "# model fit\n",
    "model = xgb.XGBClassifier(random_state = 42)\n",
    "\n",
    "model.fit(X_train, y_train)\n",
    "y_pred = model.predict(X_test)"
   ]
  },
  {
   "cell_type": "code",
   "execution_count": 139,
   "id": "65763ad8",
   "metadata": {},
   "outputs": [
    {
     "data": {
      "text/plain": [
       "{'objective': 'binary:logistic',\n",
       " 'use_label_encoder': None,\n",
       " 'base_score': None,\n",
       " 'booster': None,\n",
       " 'callbacks': None,\n",
       " 'colsample_bylevel': None,\n",
       " 'colsample_bynode': None,\n",
       " 'colsample_bytree': None,\n",
       " 'early_stopping_rounds': None,\n",
       " 'enable_categorical': False,\n",
       " 'eval_metric': None,\n",
       " 'feature_types': None,\n",
       " 'gamma': None,\n",
       " 'gpu_id': None,\n",
       " 'grow_policy': None,\n",
       " 'importance_type': None,\n",
       " 'interaction_constraints': None,\n",
       " 'learning_rate': None,\n",
       " 'max_bin': None,\n",
       " 'max_cat_threshold': None,\n",
       " 'max_cat_to_onehot': None,\n",
       " 'max_delta_step': None,\n",
       " 'max_depth': None,\n",
       " 'max_leaves': None,\n",
       " 'min_child_weight': None,\n",
       " 'missing': nan,\n",
       " 'monotone_constraints': None,\n",
       " 'n_estimators': 100,\n",
       " 'n_jobs': None,\n",
       " 'num_parallel_tree': None,\n",
       " 'predictor': None,\n",
       " 'random_state': 42,\n",
       " 'reg_alpha': None,\n",
       " 'reg_lambda': None,\n",
       " 'sampling_method': None,\n",
       " 'scale_pos_weight': None,\n",
       " 'subsample': None,\n",
       " 'tree_method': None,\n",
       " 'validate_parameters': None,\n",
       " 'verbosity': None}"
      ]
     },
     "execution_count": 139,
     "metadata": {},
     "output_type": "execute_result"
    }
   ],
   "source": [
    "params_before = model.get_params()\n",
    "params_before"
   ]
  },
  {
   "cell_type": "code",
   "execution_count": null,
   "id": "5a84c932",
   "metadata": {},
   "outputs": [],
   "source": [
    "# lakukan SMOTEE untuk semua model\n",
    "# lakukan hptuning untuk model terbaik"
   ]
  },
  {
   "cell_type": "markdown",
   "id": "32416d4f",
   "metadata": {},
   "source": [
    "# SMOTEE"
   ]
  },
  {
   "cell_type": "code",
   "execution_count": 25,
   "id": "67c5789a",
   "metadata": {},
   "outputs": [
    {
     "name": "stdout",
     "output_type": "stream",
     "text": [
      "Before Handling SMOTE Counter({'Revenue': 1})\n",
      "After Handling SMOTE Counter({'Revenue': 1})\n"
     ]
    }
   ],
   "source": [
    "# summarize class distribution\n",
    "print('Before Handling SMOTE',Counter(y_train))\n",
    "\n",
    "# define undersample strategy\n",
    "smote = SMOTE()\n",
    "\n",
    "# fit and apply the transform\n",
    "X_train_SMOTE, y_train_SMOTE = smote.fit_resample(X_train, y_train)\n",
    "\n",
    "# summarize class distribution\n",
    "print('After Handling SMOTE',Counter(y_train_SMOTE))"
   ]
  },
  {
   "cell_type": "code",
   "execution_count": 27,
   "id": "64ab073b",
   "metadata": {},
   "outputs": [],
   "source": [
    "def evaluate(model, x_test = X_test, y_test = y_test, x_train=X_train_SMOTE, y_train=y_train_SMOTE):\n",
    "    y_pred_train = model.predict(x_train)\n",
    "    print('======= Data Train =======')\n",
    "    print('Accuracy Data Train:', accuracy_score(y_train, y_pred_train))\n",
    "    print('------')\n",
    "    print('Confusion Matrix Data Train:')\n",
    "    print()\n",
    "    print(classification_report(y_train, y_pred_train))\n",
    "    print('------')\n",
    "    \n",
    "    tn, fp, fn, tp = confusion_matrix(y_train, y_pred_train).ravel()\n",
    "    print('Assuming 1 as positive, we get for Data Train:')\n",
    "    print('')\n",
    "    print('True Positive:', tp)\n",
    "    print('True Negative:', tn)\n",
    "    print('False Positive:', fp)\n",
    "    print('False Negative:', fn)\n",
    "    \n",
    "    print('')\n",
    "    \n",
    "    precision = tp/(tp+fp)\n",
    "    recall = tp/(tp+fn)\n",
    "    \n",
    "    print('Precision Data Train:', precision)\n",
    "    print('Recall Data Train:', recall)\n",
    "    print('F1-Score Data Train:', 2 * (precision * recall)/(precision + recall))\n",
    "    \n",
    "    y_pred = model.predict(x_test)\n",
    "    print('======= Data Test =======')\n",
    "    print('Accuracy:', accuracy_score(y_test, y_pred))\n",
    "    print('------')\n",
    "    print('Confusion Matrix Data Test:')\n",
    "    print()\n",
    "    print(classification_report(y_test, y_pred))\n",
    "    print('------')\n",
    "    \n",
    "    tn, fp, fn, tp = confusion_matrix(y_test, y_pred).ravel()\n",
    "    print('Assuming 1 as positive, we get:')\n",
    "    print('')\n",
    "    print('True Positive:', tp)\n",
    "    print('True Negative:', tn)\n",
    "    print('False Positive:', fp)\n",
    "    print('False Negative:', fn)\n",
    "    \n",
    "    print('')\n",
    "    \n",
    "    precision = tp/(tp+fp)\n",
    "    recall = tp/(tp+fn)\n",
    "    \n",
    "    print('Precision Data Test:', precision)\n",
    "    print('Recall Data Test:', recall)\n",
    "    print('F1-Score Data Test:', 2 * (precision * recall)/(precision + recall))"
   ]
  },
  {
   "cell_type": "markdown",
   "id": "d723b1c6",
   "metadata": {},
   "source": [
    "# Logistic Regression"
   ]
  },
  {
   "cell_type": "code",
   "execution_count": 34,
   "id": "4f068119",
   "metadata": {},
   "outputs": [
    {
     "data": {
      "text/plain": [
       "LogisticRegression()"
      ]
     },
     "execution_count": 34,
     "metadata": {},
     "output_type": "execute_result"
    }
   ],
   "source": [
    "lr = LogisticRegression()\n",
    "lr.fit(X_train_SMOTE, y_train_SMOTE)"
   ]
  },
  {
   "cell_type": "code",
   "execution_count": 35,
   "id": "de0fe1b7",
   "metadata": {},
   "outputs": [
    {
     "name": "stdout",
     "output_type": "stream",
     "text": [
      "======= Data Train =======\n",
      "Accuracy Data Train: 0.8300623862750195\n",
      "------\n",
      "Confusion Matrix Data Train:\n",
      "\n",
      "              precision    recall  f1-score   support\n",
      "\n",
      "           0       0.79      0.90      0.84      7694\n",
      "           1       0.89      0.76      0.82      7694\n",
      "\n",
      "    accuracy                           0.83     15388\n",
      "   macro avg       0.84      0.83      0.83     15388\n",
      "weighted avg       0.84      0.83      0.83     15388\n",
      "\n",
      "------\n",
      "Assuming 1 as positive, we get for Data Train:\n",
      "\n",
      "True Positive: 5835\n",
      "True Negative: 6938\n",
      "False Positive: 756\n",
      "False Negative: 1859\n",
      "\n",
      "Precision Data Train: 0.8852981338188439\n",
      "Recall Data Train: 0.7583831557057448\n",
      "F1-Score Data Train: 0.8169408470423521\n",
      "======= Data Test =======\n",
      "Accuracy: 0.8784403669724771\n",
      "------\n",
      "Confusion Matrix Data Test:\n",
      "\n",
      "              precision    recall  f1-score   support\n",
      "\n",
      "           0       0.95      0.90      0.93      2603\n",
      "           1       0.57      0.73      0.64       449\n",
      "\n",
      "    accuracy                           0.88      3052\n",
      "   macro avg       0.76      0.82      0.78      3052\n",
      "weighted avg       0.89      0.88      0.88      3052\n",
      "\n",
      "------\n",
      "Assuming 1 as positive, we get:\n",
      "\n",
      "True Positive: 326\n",
      "True Negative: 2355\n",
      "False Positive: 248\n",
      "False Negative: 123\n",
      "\n",
      "Precision Data Test: 0.5679442508710801\n",
      "Recall Data Test: 0.7260579064587973\n",
      "F1-Score Data Test: 0.6373411534701857\n"
     ]
    }
   ],
   "source": [
    "evaluate(lr,  x_test = X_test, y_test = y_test, x_train=X_train_SMOTE, y_train=y_train_SMOTE)"
   ]
  },
  {
   "cell_type": "markdown",
   "id": "06ca6b72",
   "metadata": {},
   "source": [
    "# Decision Tree"
   ]
  },
  {
   "cell_type": "code",
   "execution_count": 28,
   "id": "8668ec29",
   "metadata": {},
   "outputs": [
    {
     "data": {
      "text/plain": [
       "DecisionTreeClassifier()"
      ]
     },
     "execution_count": 28,
     "metadata": {},
     "output_type": "execute_result"
    }
   ],
   "source": [
    "dt = DecisionTreeClassifier()\n",
    "dt.fit(X_train_SMOTE,y_train_SMOTE)"
   ]
  },
  {
   "cell_type": "code",
   "execution_count": 33,
   "id": "7a4a5e33",
   "metadata": {},
   "outputs": [
    {
     "name": "stdout",
     "output_type": "stream",
     "text": [
      "======= Data Train =======\n",
      "Accuracy Data Train: 1.0\n",
      "------\n",
      "Confusion Matrix Data Train:\n",
      "\n",
      "              precision    recall  f1-score   support\n",
      "\n",
      "           0       1.00      1.00      1.00      7694\n",
      "           1       1.00      1.00      1.00      7694\n",
      "\n",
      "    accuracy                           1.00     15388\n",
      "   macro avg       1.00      1.00      1.00     15388\n",
      "weighted avg       1.00      1.00      1.00     15388\n",
      "\n",
      "------\n",
      "Assuming 1 as positive, we get for Data Train:\n",
      "\n",
      "True Positive: 7694\n",
      "True Negative: 7694\n",
      "False Positive: 0\n",
      "False Negative: 0\n",
      "\n",
      "Precision Data Train: 1.0\n",
      "Recall Data Train: 1.0\n",
      "F1-Score Data Train: 1.0\n",
      "======= Data Test =======\n",
      "Accuracy: 0.867300131061599\n",
      "------\n",
      "Confusion Matrix Data Test:\n",
      "\n",
      "              precision    recall  f1-score   support\n",
      "\n",
      "           0       0.93      0.91      0.92      2603\n",
      "           1       0.54      0.61      0.58       449\n",
      "\n",
      "    accuracy                           0.87      3052\n",
      "   macro avg       0.74      0.76      0.75      3052\n",
      "weighted avg       0.87      0.87      0.87      3052\n",
      "\n",
      "------\n",
      "Assuming 1 as positive, we get:\n",
      "\n",
      "True Positive: 276\n",
      "True Negative: 2371\n",
      "False Positive: 232\n",
      "False Negative: 173\n",
      "\n",
      "Precision Data Test: 0.5433070866141733\n",
      "Recall Data Test: 0.6146993318485523\n",
      "F1-Score Data Test: 0.5768025078369906\n"
     ]
    }
   ],
   "source": [
    "evaluate(dt,  x_test = X_test, y_test = y_test, x_train=X_train_SMOTE, y_train=y_train_SMOTE)"
   ]
  },
  {
   "cell_type": "markdown",
   "id": "97303e32",
   "metadata": {},
   "source": [
    "# Random Forest"
   ]
  },
  {
   "cell_type": "code",
   "execution_count": 36,
   "id": "2dd58f3d",
   "metadata": {},
   "outputs": [
    {
     "data": {
      "text/plain": [
       "RandomForestClassifier()"
      ]
     },
     "execution_count": 36,
     "metadata": {},
     "output_type": "execute_result"
    }
   ],
   "source": [
    "rf = RandomForestClassifier()\n",
    "rf.fit(X_train_SMOTE,y_train_SMOTE)"
   ]
  },
  {
   "cell_type": "code",
   "execution_count": 37,
   "id": "98533910",
   "metadata": {},
   "outputs": [
    {
     "name": "stdout",
     "output_type": "stream",
     "text": [
      "======= Data Train =======\n",
      "Accuracy Data Train: 1.0\n",
      "------\n",
      "Confusion Matrix Data Train:\n",
      "\n",
      "              precision    recall  f1-score   support\n",
      "\n",
      "           0       1.00      1.00      1.00      7694\n",
      "           1       1.00      1.00      1.00      7694\n",
      "\n",
      "    accuracy                           1.00     15388\n",
      "   macro avg       1.00      1.00      1.00     15388\n",
      "weighted avg       1.00      1.00      1.00     15388\n",
      "\n",
      "------\n",
      "Assuming 1 as positive, we get for Data Train:\n",
      "\n",
      "True Positive: 7694\n",
      "True Negative: 7694\n",
      "False Positive: 0\n",
      "False Negative: 0\n",
      "\n",
      "Precision Data Train: 1.0\n",
      "Recall Data Train: 1.0\n",
      "F1-Score Data Train: 1.0\n",
      "======= Data Test =======\n",
      "Accuracy: 0.8928571428571429\n",
      "------\n",
      "Confusion Matrix Data Test:\n",
      "\n",
      "              precision    recall  f1-score   support\n",
      "\n",
      "           0       0.94      0.93      0.94      2603\n",
      "           1       0.62      0.68      0.65       449\n",
      "\n",
      "    accuracy                           0.89      3052\n",
      "   macro avg       0.78      0.81      0.79      3052\n",
      "weighted avg       0.90      0.89      0.89      3052\n",
      "\n",
      "------\n",
      "Assuming 1 as positive, we get:\n",
      "\n",
      "True Positive: 307\n",
      "True Negative: 2418\n",
      "False Positive: 185\n",
      "False Negative: 142\n",
      "\n",
      "Precision Data Test: 0.6239837398373984\n",
      "Recall Data Test: 0.6837416481069042\n",
      "F1-Score Data Test: 0.6524973432518598\n"
     ]
    }
   ],
   "source": [
    "evaluate(rf,  x_test = X_test, y_test = y_test, x_train=X_train_SMOTE, y_train=y_train_SMOTE)"
   ]
  },
  {
   "cell_type": "markdown",
   "id": "195befda",
   "metadata": {},
   "source": [
    "# XGBOOST"
   ]
  },
  {
   "cell_type": "code",
   "execution_count": 38,
   "id": "273d8e3a",
   "metadata": {},
   "outputs": [
    {
     "data": {
      "text/plain": [
       "XGBClassifier(base_score=None, booster=None, callbacks=None,\n",
       "              colsample_bylevel=None, colsample_bynode=None,\n",
       "              colsample_bytree=None, early_stopping_rounds=None,\n",
       "              enable_categorical=False, eval_metric=None, feature_types=None,\n",
       "              gamma=None, gpu_id=None, grow_policy=None, importance_type=None,\n",
       "              interaction_constraints=None, learning_rate=None, max_bin=None,\n",
       "              max_cat_threshold=None, max_cat_to_onehot=None,\n",
       "              max_delta_step=None, max_depth=None, max_leaves=None,\n",
       "              min_child_weight=None, missing=nan, monotone_constraints=None,\n",
       "              n_estimators=100, n_jobs=None, num_parallel_tree=None,\n",
       "              predictor=None, random_state=None, ...)"
      ]
     },
     "execution_count": 38,
     "metadata": {},
     "output_type": "execute_result"
    }
   ],
   "source": [
    "xgb_model = xgb.XGBClassifier()\n",
    "xgb_model.fit(X_train_SMOTE, y_train_SMOTE)"
   ]
  },
  {
   "cell_type": "code",
   "execution_count": 39,
   "id": "fcf76145",
   "metadata": {},
   "outputs": [
    {
     "name": "stdout",
     "output_type": "stream",
     "text": [
      "======= Data Train =======\n",
      "Accuracy Data Train: 0.987977644918118\n",
      "------\n",
      "Confusion Matrix Data Train:\n",
      "\n",
      "              precision    recall  f1-score   support\n",
      "\n",
      "           0       0.98      0.99      0.99      7694\n",
      "           1       0.99      0.98      0.99      7694\n",
      "\n",
      "    accuracy                           0.99     15388\n",
      "   macro avg       0.99      0.99      0.99     15388\n",
      "weighted avg       0.99      0.99      0.99     15388\n",
      "\n",
      "------\n",
      "Assuming 1 as positive, we get for Data Train:\n",
      "\n",
      "True Positive: 7562\n",
      "True Negative: 7641\n",
      "False Positive: 53\n",
      "False Negative: 132\n",
      "\n",
      "Precision Data Train: 0.9930400525279055\n",
      "Recall Data Train: 0.9828437743696387\n",
      "F1-Score Data Train: 0.9879156051995558\n",
      "======= Data Test =======\n",
      "Accuracy: 0.9020314547837484\n",
      "------\n",
      "Confusion Matrix Data Test:\n",
      "\n",
      "              precision    recall  f1-score   support\n",
      "\n",
      "           0       0.94      0.94      0.94      2603\n",
      "           1       0.67      0.66      0.66       449\n",
      "\n",
      "    accuracy                           0.90      3052\n",
      "   macro avg       0.81      0.80      0.80      3052\n",
      "weighted avg       0.90      0.90      0.90      3052\n",
      "\n",
      "------\n",
      "Assuming 1 as positive, we get:\n",
      "\n",
      "True Positive: 295\n",
      "True Negative: 2458\n",
      "False Positive: 145\n",
      "False Negative: 154\n",
      "\n",
      "Precision Data Test: 0.6704545454545454\n",
      "Recall Data Test: 0.6570155902004454\n",
      "F1-Score Data Test: 0.6636670416197975\n"
     ]
    }
   ],
   "source": [
    "evaluate(xgb_model, x_test = X_test, y_test = y_test, x_train=X_train_SMOTE, y_train=y_train_SMOTE)"
   ]
  },
  {
   "cell_type": "markdown",
   "id": "b9a224bd",
   "metadata": {},
   "source": [
    "**Handling imbalance data target dengan smote tidak menunjukkan peningkatan performa model**"
   ]
  },
  {
   "cell_type": "markdown",
   "id": "9b3f75e3",
   "metadata": {},
   "source": [
    "# Hyperparamter Tuning"
   ]
  },
  {
   "cell_type": "markdown",
   "id": "a6b4f845",
   "metadata": {},
   "source": [
    "Hyperparamter tuning dilakukan hanya pada XGBoost karena memiliki performa yang lebih baik dibandingkan model lainnya, dilakukan hyperparameter tunning untuk mengatasi performa model yang masih overfitting"
   ]
  },
  {
   "cell_type": "code",
   "execution_count": 140,
   "id": "f1197470",
   "metadata": {},
   "outputs": [
    {
     "data": {
      "text/plain": [
       "{'objective': 'binary:logistic',\n",
       " 'use_label_encoder': None,\n",
       " 'base_score': None,\n",
       " 'booster': None,\n",
       " 'callbacks': None,\n",
       " 'colsample_bylevel': None,\n",
       " 'colsample_bynode': None,\n",
       " 'colsample_bytree': None,\n",
       " 'early_stopping_rounds': None,\n",
       " 'enable_categorical': False,\n",
       " 'eval_metric': None,\n",
       " 'feature_types': None,\n",
       " 'gamma': None,\n",
       " 'gpu_id': None,\n",
       " 'grow_policy': None,\n",
       " 'importance_type': None,\n",
       " 'interaction_constraints': None,\n",
       " 'learning_rate': None,\n",
       " 'max_bin': None,\n",
       " 'max_cat_threshold': None,\n",
       " 'max_cat_to_onehot': None,\n",
       " 'max_delta_step': None,\n",
       " 'max_depth': None,\n",
       " 'max_leaves': None,\n",
       " 'min_child_weight': None,\n",
       " 'missing': nan,\n",
       " 'monotone_constraints': None,\n",
       " 'n_estimators': 100,\n",
       " 'n_jobs': None,\n",
       " 'num_parallel_tree': None,\n",
       " 'predictor': None,\n",
       " 'random_state': 42,\n",
       " 'reg_alpha': None,\n",
       " 'reg_lambda': None,\n",
       " 'sampling_method': None,\n",
       " 'scale_pos_weight': None,\n",
       " 'subsample': None,\n",
       " 'tree_method': None,\n",
       " 'validate_parameters': None,\n",
       " 'verbosity': None}"
      ]
     },
     "execution_count": 140,
     "metadata": {},
     "output_type": "execute_result"
    }
   ],
   "source": [
    "# paramater dari model awal\n",
    "params_before"
   ]
  },
  {
   "cell_type": "code",
   "execution_count": 141,
   "id": "2678044f",
   "metadata": {},
   "outputs": [],
   "source": [
    "## Hyper Parameter Optimization\n",
    "\n",
    "param_grid= {\n",
    " \"learning_rate\"    : [0.05, 0.10, 0.15, 0.20, 0.25, 0.30 ] ,\n",
    " \"max_depth\"        : [ 3, 4, 5, 6, 8, 10, 12, 15],\n",
    " \"min_child_weight\" : [ 1, 3, 5, 7, 10 ],\n",
    " \"gamma\"            : [ 0.0, 0.1, 0.2 , 0.3, 0.4 ],\n",
    " \"colsample_bytree\" : [ 0.3, 0.4, 0.5 , 0.7 ],\n",
    " \"subsample\"        : [ 0.6, 0.7, 0.8, 0.9, 1.0 ],\n",
    "  \"reg_alpha\"       : [0, 0.001, 0.01, 0.1, 1, 10]\n",
    "    \n",
    "}"
   ]
  },
  {
   "cell_type": "code",
   "execution_count": 142,
   "id": "84aad66d",
   "metadata": {},
   "outputs": [],
   "source": [
    "# base model fit\n",
    "xgb_model = xgb.XGBClassifier(random_state = 42)\n",
    "\n",
    "xgb_model.fit(X_train, y_train)\n",
    "y_pred = xgb_model.predict(X_test)"
   ]
  },
  {
   "cell_type": "code",
   "execution_count": 143,
   "id": "a66ae8ca",
   "metadata": {},
   "outputs": [],
   "source": [
    "# Membuat objek StratifiedKFold untuk cross-validation\n",
    "cv = StratifiedKFold(n_splits=5, shuffle=True, random_state=42)\n",
    "\n",
    "# Membuat objek RandomizedSearchCV untuk melakukan hyperparameter tuning\n",
    "random_search = RandomizedSearchCV(estimator=xgb_model, param_distributions=param_grid, cv=cv, scoring='roc_auc', n_iter=10, random_state=42)\n"
   ]
  },
  {
   "cell_type": "code",
   "execution_count": 144,
   "id": "0272d5cf",
   "metadata": {},
   "outputs": [
    {
     "data": {
      "text/plain": [
       "RandomizedSearchCV(cv=StratifiedKFold(n_splits=5, random_state=42, shuffle=True),\n",
       "                   estimator=XGBClassifier(base_score=None, booster=None,\n",
       "                                           callbacks=None,\n",
       "                                           colsample_bylevel=None,\n",
       "                                           colsample_bynode=None,\n",
       "                                           colsample_bytree=None,\n",
       "                                           early_stopping_rounds=None,\n",
       "                                           enable_categorical=False,\n",
       "                                           eval_metric=None, feature_types=None,\n",
       "                                           gamma=None, gpu_id=None,\n",
       "                                           grow_policy=None,\n",
       "                                           importan...\n",
       "                                           num_parallel_tree=None,\n",
       "                                           predictor=None, random_state=42, ...),\n",
       "                   param_distributions={'colsample_bytree': [0.3, 0.4, 0.5,\n",
       "                                                             0.7],\n",
       "                                        'gamma': [0.0, 0.1, 0.2, 0.3, 0.4],\n",
       "                                        'learning_rate': [0.05, 0.1, 0.15, 0.2,\n",
       "                                                          0.25, 0.3],\n",
       "                                        'max_depth': [3, 4, 5, 6, 8, 10, 12,\n",
       "                                                      15],\n",
       "                                        'min_child_weight': [1, 3, 5, 7, 10],\n",
       "                                        'reg_alpha': [0, 0.001, 0.01, 0.1, 1,\n",
       "                                                      10],\n",
       "                                        'subsample': [0.6, 0.7, 0.8, 0.9, 1.0]},\n",
       "                   random_state=42, scoring='roc_auc')"
      ]
     },
     "execution_count": 144,
     "metadata": {},
     "output_type": "execute_result"
    }
   ],
   "source": [
    "# Melakukan hyperparameter tuning\n",
    "random_search.fit(X_train, y_train)"
   ]
  },
  {
   "cell_type": "code",
   "execution_count": 145,
   "id": "4ba92052",
   "metadata": {},
   "outputs": [
    {
     "name": "stdout",
     "output_type": "stream",
     "text": [
      "Best Parameters: {'subsample': 1.0, 'reg_alpha': 10, 'min_child_weight': 1, 'max_depth': 15, 'learning_rate': 0.2, 'gamma': 0.1, 'colsample_bytree': 0.7}\n",
      "Best Score: 0.9273047461211954\n"
     ]
    }
   ],
   "source": [
    "# print out the best paramaters\n",
    "\n",
    "print(\"Best Parameters:\", random_search.best_params_)\n",
    "print(\"Best Score:\", random_search.best_score_)"
   ]
  },
  {
   "cell_type": "code",
   "execution_count": 146,
   "id": "fcb7cf71",
   "metadata": {},
   "outputs": [],
   "source": [
    "# set best parameter\n",
    "best_params =  random_search.best_params_\n",
    "\n",
    "# model fit test\n",
    "xgb_model_best = xgb.XGBClassifier(**best_params, random_state = 42)\n",
    "xgb_model_best.fit(X_train, y_train)\n",
    "y_pred_best_test = xgb_model_best.predict(X_test)"
   ]
  },
  {
   "cell_type": "code",
   "execution_count": 147,
   "id": "22077c56",
   "metadata": {},
   "outputs": [],
   "source": [
    "# model fit train\n",
    "xgb_model_best = xgb.XGBClassifier(**best_params, random_state = 42)\n",
    "xgb_model_best.fit(X_train, y_train)\n",
    "y_pred_best_train = xgb_model_best.predict(X_train)"
   ]
  },
  {
   "cell_type": "code",
   "execution_count": 148,
   "id": "9c3f1e1c",
   "metadata": {},
   "outputs": [
    {
     "name": "stdout",
     "output_type": "stream",
     "text": [
      "Classification Report Data Train:\n",
      "              precision    recall  f1-score   support\n",
      "\n",
      "           0       0.95      0.98      0.96      7694\n",
      "           1       0.85      0.71      0.77      1459\n",
      "\n",
      "    accuracy                           0.93      9153\n",
      "   macro avg       0.90      0.84      0.87      9153\n",
      "weighted avg       0.93      0.93      0.93      9153\n",
      "\n"
     ]
    }
   ],
   "source": [
    "print(\"Classification Report Data Train:\")\n",
    "print(classification_report(y_train,y_pred_best_train))"
   ]
  },
  {
   "cell_type": "code",
   "execution_count": 149,
   "id": "146d03f0",
   "metadata": {},
   "outputs": [
    {
     "name": "stdout",
     "output_type": "stream",
     "text": [
      "Classification Report Data Test:\n",
      "              precision    recall  f1-score   support\n",
      "\n",
      "           0       0.93      0.96      0.95      2603\n",
      "           1       0.74      0.59      0.66       449\n",
      "\n",
      "    accuracy                           0.91      3052\n",
      "   macro avg       0.84      0.78      0.80      3052\n",
      "weighted avg       0.90      0.91      0.90      3052\n",
      "\n"
     ]
    }
   ],
   "source": [
    "print(\"Classification Report Data Test:\")\n",
    "print(classification_report(y_test,y_pred_best_test))"
   ]
  },
  {
   "cell_type": "code",
   "execution_count": 150,
   "id": "5102b6a2",
   "metadata": {},
   "outputs": [
    {
     "data": {
      "text/plain": [
       "array([[2510,   93],\n",
       "       [ 184,  265]], dtype=int64)"
      ]
     },
     "execution_count": 150,
     "metadata": {},
     "output_type": "execute_result"
    }
   ],
   "source": [
    "cm = confusion_matrix(y_test, y_pred_best_test)\n",
    "cm"
   ]
  },
  {
   "cell_type": "markdown",
   "id": "5453ab4b",
   "metadata": {},
   "source": [
    "- True positive : 2510\n",
    "- False positive : 184\n",
    "- True negative : 265\n",
    "- False negative : 93"
   ]
  },
  {
   "cell_type": "markdown",
   "id": "59414ca9",
   "metadata": {},
   "source": [
    "**Performa model menjadi lebih baik dibandingkan sebelumnya setelah dilakukan hyperparamter tuning**"
   ]
  },
  {
   "cell_type": "markdown",
   "id": "318e56d3",
   "metadata": {},
   "source": [
    "## ROC - AUC graph"
   ]
  },
  {
   "cell_type": "code",
   "execution_count": 165,
   "id": "8fe945fa",
   "metadata": {},
   "outputs": [
    {
     "data": {
      "image/png": "[encoded data removed]",
      "text/plain": [
       "<Figure size 432x288 with 1 Axes>"
      ]
     },
     "metadata": {
      "needs_background": "light"
     },
     "output_type": "display_data"
    }
   ],
   "source": [
    "from sklearn.metrics import roc_curve, roc_auc_score\n",
    "\n",
    "# Memprediksi probabilitas kelas positif\n",
    "y_pred_proba = xgb_model_best.predict_proba(X_test)[:, 1]  \n",
    "\n",
    "# Menghitung nilai ROC AUC\n",
    "auc = roc_auc_score(y_test, y_pred_proba)\n",
    "\n",
    "# Menghitung false positive rate, true positive rate, dan threshold menggunakan roc_curve\n",
    "fpr, tpr, thresholds = roc_curve(y_test, y_pred_proba)\n",
    "\n",
    "\n",
    "# Menampilkan grafik ROC\n",
    "plt.plot(fpr, tpr, label='ROC curve (AUC = {:.2f})'.format(auc))\n",
    "plt.plot([0, 1], [0, 1], 'k--')\n",
    "plt.xlim([0.0, 1.0])\n",
    "plt.ylim([0.0, 1.05])\n",
    "plt.xlabel('False Positive Rate')\n",
    "plt.ylabel('True Positive Rate')\n",
    "plt.title('Receiver Operating Characteristic')\n",
    "plt.legend(loc='lower right')\n",
    "plt.show()"
   ]
  },
  {
   "cell_type": "markdown",
   "id": "6f00417c",
   "metadata": {},
   "source": [
    "Kurva ROC mendekati sudut kiri atas dengan nilai AUC yang mendekati 1 menunjukkan bahwa model memiliki tingkat pemisahan yang sangat baik anatara kelas positif dan negatif "
   ]
  },
  {
   "cell_type": "markdown",
   "id": "b3d73cfa",
   "metadata": {},
   "source": [
    "## Feature importance"
   ]
  },
  {
   "cell_type": "code",
   "execution_count": 151,
   "id": "97f3c96b",
   "metadata": {},
   "outputs": [],
   "source": [
    "# Mendapatkan feature importance\n",
    "importance = xgb_model_best.feature_importances_"
   ]
  },
  {
   "cell_type": "code",
   "execution_count": 153,
   "id": "8a3ec6ad",
   "metadata": {},
   "outputs": [
    {
     "data": {
      "image/png": "[encoded data removed]",
      "text/plain": [
       "<Figure size 432x288 with 1 Axes>"
      ]
     },
     "metadata": {
      "needs_background": "light"
     },
     "output_type": "display_data"
    }
   ],
   "source": [
    "# assign nama features\n",
    "feature_names = X\n",
    "\n",
    "# Menampilkan feature importance dalam bentuk grafik\n",
    "plt.bar(range(len(importance)), importance)\n",
    "plt.xticks(range(len(importance)), feature_names, rotation='vertical')\n",
    "plt.xlabel(\"Feature\")\n",
    "plt.ylabel(\"Importance\")\n",
    "plt.title(\"Feature Importance\")\n",
    "plt.show()\n",
    "\n",
    "\n",
    "\n",
    "\n"
   ]
  },
  {
   "cell_type": "markdown",
   "id": "140226a7",
   "metadata": {},
   "source": [
    "Page value memiliki pengaruh yang cukup besar terhadap model dibandingkan fitur lainnya"
   ]
  },
  {
   "cell_type": "markdown",
   "id": "bc257c04",
   "metadata": {},
   "source": [
    "# Conclusion :"
   ]
  },
  {
   "cell_type": "markdown",
   "id": "c2b35db2",
   "metadata": {},
   "source": [
    "1. Model XgboostClassifier mampu melakukan prediksi dengan f1 score 66% customer (dari 449 customer revenue) yang mampu mengidentifikasi customer yang benar-benar revenue (recall) dan menghindari kesalahan prediksi untuk customer yang sebenanrya tidak revenue (precision)\n",
    "2. Model XgboosClassifier mampu secara baik membedakan antara customer yang mengalami revenue dan tidak mengalami revenue dengan AUC = 0.94 (mendekati 1)\n",
    "3. Page Value adalah  fitur yang paling berpengaruh terhadap prediksi model \n"
   ]
  },
  {
   "cell_type": "code",
   "execution_count": null,
   "id": "3e41afc1",
   "metadata": {},
   "outputs": [],
   "source": []
  }
 ],
 "metadata": {
  "kernelspec": {
   "display_name": "Python 3 (ipykernel)",
   "language": "python",
   "name": "python3"
  },
  "language_info": {
   "codemirror_mode": {
    "name": "ipython",
    "version": 3
   },
   "file_extension": ".py",
   "mimetype": "text/x-python",
   "name": "python",
   "nbconvert_exporter": "python",
   "pygments_lexer": "ipython3",
   "version": "3.9.12"
  }
 },
 "nbformat": 4,
 "nbformat_minor": 5
}
